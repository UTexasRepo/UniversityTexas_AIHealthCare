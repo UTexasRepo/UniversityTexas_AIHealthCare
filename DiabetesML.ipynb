{
 "cells": [
  {
   "cell_type": "markdown",
   "id": "ee0cc24b",
   "metadata": {},
   "source": [
    "# CDC Diabetes Health Indicators"
   ]
  },
  {
   "cell_type": "markdown",
   "id": "22be7fad",
   "metadata": {},
   "source": [
    "### Importing Data"
   ]
  },
  {
   "cell_type": "code",
   "execution_count": 303,
   "id": "90dfa946",
   "metadata": {},
   "outputs": [],
   "source": [
    "# From UCI Repository\n",
    "from ucimlrepo import fetch_ucirepo \n",
    "  \n",
    "# fetch dataset \n",
    "cdc_diabetes_health_indicators = fetch_ucirepo(id=891) \n",
    "  \n",
    "# data (as pandas dataframes) \n",
    "X = cdc_diabetes_health_indicators.data.features \n",
    "y = cdc_diabetes_health_indicators.data.targets  "
   ]
  },
  {
   "cell_type": "code",
   "execution_count": 304,
   "id": "f31a7419",
   "metadata": {},
   "outputs": [],
   "source": [
    "# Import libraries\n",
    "import pandas as pd # Analysis\n",
    "import numpy as np # Numerical Python\n",
    "from sklearn.model_selection import GridSearchCV, train_test_split, cross_val_score, KFold #  Grid Search/Train Test Split/Cross Validation\n",
    "from sklearn.ensemble import RandomForestClassifier # Random Forest\n",
    "from sklearn.metrics import confusion_matrix,classification_report,ConfusionMatrixDisplay # Confusion Matrix and Info\n",
    "from sklearn.compose import ColumnTransformer # Multiple Transforms on multiple columns\n",
    "from sklearn.preprocessing import OneHotEncoder # Standard Scalar, One Hot Encode features \n",
    "import matplotlib.pyplot as plt # plotting\n",
    "import seaborn as sns # Plotting\n",
    "pd.set_option('display.max_columns', None) # to display all columns"
   ]
  },
  {
   "cell_type": "markdown",
   "id": "49b2689a",
   "metadata": {},
   "source": [
    "### Sources"
   ]
  },
  {
   "cell_type": "markdown",
   "id": "2d564aca",
   "metadata": {},
   "source": [
    "The following are sources used in this analysis. I gathered my data from the UCI Data Repository. You will also find\n",
    "links to the codebook for category breakdowns and clarifcation of BMI categories.\n",
    "\n",
    "https://www.cdc.gov/brfss/annual_data/2014/pdf/CODEBOOK14_LLCP.pdf\n",
    "\n",
    "https://archive.ics.uci.edu/dataset/891/cdc+diabetes+health+indicators\n",
    "\n",
    "https://www.cdc.gov/healthyweight/assessing/index.html"
   ]
  },
  {
   "cell_type": "markdown",
   "id": "3d4afcd7",
   "metadata": {},
   "source": [
    "### Summary & EDA"
   ]
  },
  {
   "cell_type": "code",
   "execution_count": 307,
   "id": "430529b0",
   "metadata": {},
   "outputs": [
    {
     "data": {
      "text/html": [
       "<div>\n",
       "<style scoped>\n",
       "    .dataframe tbody tr th:only-of-type {\n",
       "        vertical-align: middle;\n",
       "    }\n",
       "\n",
       "    .dataframe tbody tr th {\n",
       "        vertical-align: top;\n",
       "    }\n",
       "\n",
       "    .dataframe thead th {\n",
       "        text-align: right;\n",
       "    }\n",
       "</style>\n",
       "<table border=\"1\" class=\"dataframe\">\n",
       "  <thead>\n",
       "    <tr style=\"text-align: right;\">\n",
       "      <th></th>\n",
       "      <th></th>\n",
       "      <th></th>\n",
       "      <th></th>\n",
       "      <th></th>\n",
       "      <th></th>\n",
       "      <th></th>\n",
       "      <th></th>\n",
       "      <th></th>\n",
       "      <th></th>\n",
       "      <th></th>\n",
       "      <th></th>\n",
       "      <th></th>\n",
       "      <th></th>\n",
       "      <th></th>\n",
       "      <th></th>\n",
       "      <th></th>\n",
       "      <th></th>\n",
       "      <th></th>\n",
       "      <th></th>\n",
       "      <th></th>\n",
       "      <th>count</th>\n",
       "    </tr>\n",
       "    <tr>\n",
       "      <th>HighBP</th>\n",
       "      <th>HighChol</th>\n",
       "      <th>CholCheck</th>\n",
       "      <th>BMI</th>\n",
       "      <th>Smoker</th>\n",
       "      <th>Stroke</th>\n",
       "      <th>HeartDiseaseorAttack</th>\n",
       "      <th>PhysActivity</th>\n",
       "      <th>Fruits</th>\n",
       "      <th>Veggies</th>\n",
       "      <th>HvyAlcoholConsump</th>\n",
       "      <th>AnyHealthcare</th>\n",
       "      <th>NoDocbcCost</th>\n",
       "      <th>GenHlth</th>\n",
       "      <th>MentHlth</th>\n",
       "      <th>PhysHlth</th>\n",
       "      <th>DiffWalk</th>\n",
       "      <th>Sex</th>\n",
       "      <th>Age</th>\n",
       "      <th>Education</th>\n",
       "      <th>Income</th>\n",
       "      <th></th>\n",
       "    </tr>\n",
       "  </thead>\n",
       "  <tbody>\n",
       "    <tr>\n",
       "      <th>False</th>\n",
       "      <th>False</th>\n",
       "      <th>False</th>\n",
       "      <th>False</th>\n",
       "      <th>False</th>\n",
       "      <th>False</th>\n",
       "      <th>False</th>\n",
       "      <th>False</th>\n",
       "      <th>False</th>\n",
       "      <th>False</th>\n",
       "      <th>False</th>\n",
       "      <th>False</th>\n",
       "      <th>False</th>\n",
       "      <th>False</th>\n",
       "      <th>False</th>\n",
       "      <th>False</th>\n",
       "      <th>False</th>\n",
       "      <th>False</th>\n",
       "      <th>False</th>\n",
       "      <th>False</th>\n",
       "      <th>False</th>\n",
       "      <td>253680</td>\n",
       "    </tr>\n",
       "  </tbody>\n",
       "</table>\n",
       "</div>"
      ],
      "text/plain": [
       "                                                                                                                                                                                                             count\n",
       "HighBP HighChol CholCheck BMI   Smoker Stroke HeartDiseaseorAttack PhysActivity Fruits Veggies HvyAlcoholConsump AnyHealthcare NoDocbcCost GenHlth MentHlth PhysHlth DiffWalk Sex   Age   Education Income        \n",
       "False  False    False     False False  False  False                False        False  False   False             False         False       False   False    False    False    False False False     False   253680"
      ]
     },
     "execution_count": 307,
     "metadata": {},
     "output_type": "execute_result"
    }
   ],
   "source": [
    "# Missing Data\n",
    "pd.DataFrame(X.isnull().value_counts())"
   ]
  },
  {
   "cell_type": "markdown",
   "id": "b97197e3",
   "metadata": {},
   "source": [
    "In the above dataframe, there are no missing data. "
   ]
  },
  {
   "cell_type": "code",
   "execution_count": 308,
   "id": "1a00cca5",
   "metadata": {},
   "outputs": [
    {
     "name": "stdout",
     "output_type": "stream",
     "text": [
      "(253680, 21)\n",
      "(253680, 1)\n"
     ]
    }
   ],
   "source": [
    "# What are the dimensions of my data \n",
    "print(X.shape)\n",
    "print(y.shape)"
   ]
  },
  {
   "cell_type": "markdown",
   "id": "3611c0e7",
   "metadata": {},
   "source": [
    "There were 253,680 rows of data and 21 initial features. "
   ]
  },
  {
   "cell_type": "code",
   "execution_count": 309,
   "id": "a28ce171",
   "metadata": {
    "scrolled": true
   },
   "outputs": [
    {
     "data": {
      "text/plain": [
       "Diabetes_binary\n",
       "0                  86.066698\n",
       "1                  13.933302\n",
       "Name: count, dtype: float64"
      ]
     },
     "execution_count": 309,
     "metadata": {},
     "output_type": "execute_result"
    }
   ],
   "source": [
    "# Class Imbalance\n",
    "y.value_counts()/len(y)*100"
   ]
  },
  {
   "cell_type": "markdown",
   "id": "6f44bad4",
   "metadata": {},
   "source": [
    "We can see that we have a heavy class imbalance with only 13% of cases identified as diabetes. There are a multitude of ways to help class imbalance: class weighting, stratefication, up and down sampling etc..\n",
    "For this analysis I have chosen stratefication of target during train/test split and class weighting. I will also be checking for sparsity of data/low variance/no variance. "
   ]
  },
  {
   "cell_type": "code",
   "execution_count": 310,
   "id": "c4c2d2f0",
   "metadata": {},
   "outputs": [
    {
     "name": "stdout",
     "output_type": "stream",
     "text": [
      "     HighBP  HighChol  CholCheck   BMI  Smoker  Stroke  HeartDiseaseorAttack  \\\n",
      "min     0.0       0.0        0.0  12.0     0.0     0.0                   0.0   \n",
      "max     1.0       1.0        1.0  98.0     1.0     1.0                   1.0   \n",
      "\n",
      "     PhysActivity  Fruits  Veggies  HvyAlcoholConsump  AnyHealthcare  \\\n",
      "min           0.0     0.0      0.0                0.0            0.0   \n",
      "max           1.0     1.0      1.0                1.0            1.0   \n",
      "\n",
      "     NoDocbcCost  GenHlth  MentHlth  PhysHlth  DiffWalk  Sex   Age  Education  \\\n",
      "min          0.0      1.0       0.0       0.0       0.0  0.0   1.0        1.0   \n",
      "max          1.0      5.0      30.0      30.0       1.0  1.0  13.0        6.0   \n",
      "\n",
      "     Income  \n",
      "min     1.0  \n",
      "max     8.0  \n"
     ]
    }
   ],
   "source": [
    "# Do all columns that are binary have at least 0, 1?\n",
    "print(X.describe().loc[['min','max']])"
   ]
  },
  {
   "cell_type": "code",
   "execution_count": 311,
   "id": "8eda5f52",
   "metadata": {},
   "outputs": [
    {
     "name": "stdout",
     "output_type": "stream",
     "text": [
      "HighBP\n",
      "0    57.09989\n",
      "1    42.90011\n",
      "Name: proportion, dtype: float64 HighBP\n",
      "0    144851\n",
      "1    108829\n",
      "Name: count, dtype: int64\n",
      "HighChol\n",
      "0    57.587906\n",
      "1    42.412094\n",
      "Name: proportion, dtype: float64 HighChol\n",
      "0    146089\n",
      "1    107591\n",
      "Name: count, dtype: int64\n",
      "CholCheck\n",
      "1    96.26695\n",
      "0     3.73305\n",
      "Name: proportion, dtype: float64 CholCheck\n",
      "1    244210\n",
      "0      9470\n",
      "Name: count, dtype: int64\n",
      "BMI\n",
      "27    9.699622\n",
      "26    8.105487\n",
      "24    7.706559\n",
      "25    6.758909\n",
      "28    6.521996\n",
      "        ...   \n",
      "85    0.000394\n",
      "91    0.000394\n",
      "86    0.000394\n",
      "90    0.000394\n",
      "78    0.000394\n",
      "Name: proportion, Length: 84, dtype: float64 BMI\n",
      "27    24606\n",
      "26    20562\n",
      "24    19550\n",
      "25    17146\n",
      "28    16545\n",
      "      ...  \n",
      "85        1\n",
      "91        1\n",
      "86        1\n",
      "90        1\n",
      "78        1\n",
      "Name: count, Length: 84, dtype: int64\n",
      "Smoker\n",
      "0    55.683144\n",
      "1    44.316856\n",
      "Name: proportion, dtype: float64 Smoker\n",
      "0    141257\n",
      "1    112423\n",
      "Name: count, dtype: int64\n",
      "Stroke\n",
      "0    95.94292\n",
      "1     4.05708\n",
      "Name: proportion, dtype: float64 Stroke\n",
      "0    243388\n",
      "1     10292\n",
      "Name: count, dtype: int64\n",
      "HeartDiseaseorAttack\n",
      "0    90.581441\n",
      "1     9.418559\n",
      "Name: proportion, dtype: float64 HeartDiseaseorAttack\n",
      "0    229787\n",
      "1     23893\n",
      "Name: count, dtype: int64\n",
      "PhysActivity\n",
      "1    75.654368\n",
      "0    24.345632\n",
      "Name: proportion, dtype: float64 PhysActivity\n",
      "1    191920\n",
      "0     61760\n",
      "Name: count, dtype: int64\n",
      "Fruits\n",
      "1    63.425576\n",
      "0    36.574424\n",
      "Name: proportion, dtype: float64 Fruits\n",
      "1    160898\n",
      "0     92782\n",
      "Name: count, dtype: int64\n",
      "Veggies\n",
      "1    81.14199\n",
      "0    18.85801\n",
      "Name: proportion, dtype: float64 Veggies\n",
      "1    205841\n",
      "0     47839\n",
      "Name: count, dtype: int64\n",
      "HvyAlcoholConsump\n",
      "0    94.380322\n",
      "1     5.619678\n",
      "Name: proportion, dtype: float64 HvyAlcoholConsump\n",
      "0    239424\n",
      "1     14256\n",
      "Name: count, dtype: int64\n",
      "AnyHealthcare\n",
      "1    95.105251\n",
      "0     4.894749\n",
      "Name: proportion, dtype: float64 AnyHealthcare\n",
      "1    241263\n",
      "0     12417\n",
      "Name: count, dtype: int64\n",
      "NoDocbcCost\n",
      "0    91.582308\n",
      "1     8.417692\n",
      "Name: proportion, dtype: float64 NoDocbcCost\n",
      "0    232326\n",
      "1     21354\n",
      "Name: count, dtype: int64\n",
      "GenHlth\n",
      "2    35.116682\n",
      "3    29.819458\n",
      "1    17.856749\n",
      "4    12.444812\n",
      "5     4.762299\n",
      "Name: proportion, dtype: float64 GenHlth\n",
      "2    89084\n",
      "3    75646\n",
      "1    45299\n",
      "4    31570\n",
      "5    12081\n",
      "Name: count, dtype: int64\n",
      "MentHlth\n",
      "0     69.252602\n",
      "2      5.145853\n",
      "30     4.765058\n",
      "5      3.559603\n",
      "1      3.365658\n",
      "3      2.909571\n",
      "10     2.512220\n",
      "15     2.170057\n",
      "4      1.493614\n",
      "20     1.326080\n",
      "7      1.222012\n",
      "25     0.468307\n",
      "14     0.460028\n",
      "6      0.389467\n",
      "8      0.251892\n",
      "12     0.156891\n",
      "28     0.128903\n",
      "21     0.089483\n",
      "29     0.062283\n",
      "18     0.038237\n",
      "9      0.035872\n",
      "16     0.034689\n",
      "27     0.031142\n",
      "22     0.024834\n",
      "17     0.021287\n",
      "26     0.017739\n",
      "11     0.016162\n",
      "13     0.016162\n",
      "23     0.014980\n",
      "24     0.013009\n",
      "19     0.006307\n",
      "Name: proportion, dtype: float64 MentHlth\n",
      "0     175680\n",
      "2      13054\n",
      "30     12088\n",
      "5       9030\n",
      "1       8538\n",
      "3       7381\n",
      "10      6373\n",
      "15      5505\n",
      "4       3789\n",
      "20      3364\n",
      "7       3100\n",
      "25      1188\n",
      "14      1167\n",
      "6        988\n",
      "8        639\n",
      "12       398\n",
      "28       327\n",
      "21       227\n",
      "29       158\n",
      "18        97\n",
      "9         91\n",
      "16        88\n",
      "27        79\n",
      "22        63\n",
      "17        54\n",
      "26        45\n",
      "11        41\n",
      "13        41\n",
      "23        38\n",
      "24        33\n",
      "19        16\n",
      "Name: count, dtype: int64\n",
      "PhysHlth\n",
      "0     63.092085\n",
      "30     7.647430\n",
      "2      5.819931\n",
      "1      4.489120\n",
      "3      3.348707\n",
      "5      3.004573\n",
      "10     2.205535\n",
      "15     1.937874\n",
      "4      1.790445\n",
      "7      1.788868\n",
      "20     1.290208\n",
      "14     1.019789\n",
      "25     0.526648\n",
      "6      0.524283\n",
      "8      0.318906\n",
      "21     0.261353\n",
      "12     0.227846\n",
      "28     0.205771\n",
      "29     0.084752\n",
      "9      0.070561\n",
      "18     0.059918\n",
      "16     0.044150\n",
      "27     0.039026\n",
      "17     0.037843\n",
      "24     0.028382\n",
      "22     0.027594\n",
      "26     0.027200\n",
      "13     0.026805\n",
      "11     0.023652\n",
      "23     0.022075\n",
      "19     0.008672\n",
      "Name: proportion, dtype: float64 PhysHlth\n",
      "0     160052\n",
      "30     19400\n",
      "2      14764\n",
      "1      11388\n",
      "3       8495\n",
      "5       7622\n",
      "10      5595\n",
      "15      4916\n",
      "4       4542\n",
      "7       4538\n",
      "20      3273\n",
      "14      2587\n",
      "25      1336\n",
      "6       1330\n",
      "8        809\n",
      "21       663\n",
      "12       578\n",
      "28       522\n",
      "29       215\n",
      "9        179\n",
      "18       152\n",
      "16       112\n",
      "27        99\n",
      "17        96\n",
      "24        72\n",
      "22        70\n",
      "26        69\n",
      "13        68\n",
      "11        60\n",
      "23        56\n",
      "19        22\n",
      "Name: count, dtype: int64\n",
      "DiffWalk\n",
      "0    83.177625\n",
      "1    16.822375\n",
      "Name: proportion, dtype: float64 DiffWalk\n",
      "0    211005\n",
      "1     42675\n",
      "Name: count, dtype: int64\n",
      "Sex\n",
      "0    55.965784\n",
      "1    44.034216\n",
      "Name: proportion, dtype: float64 Sex\n",
      "0    141974\n",
      "1    111706\n",
      "Name: count, dtype: int64\n",
      "Age\n",
      "9     13.104699\n",
      "10    12.690792\n",
      "8     12.153895\n",
      "7     10.372911\n",
      "11     9.276648\n",
      "6      7.812599\n",
      "13     6.844450\n",
      "5      6.369048\n",
      "12     6.299275\n",
      "4      5.448991\n",
      "3      4.384658\n",
      "2      2.995112\n",
      "1      2.246925\n",
      "Name: proportion, dtype: float64 Age\n",
      "9     33244\n",
      "10    32194\n",
      "8     30832\n",
      "7     26314\n",
      "11    23533\n",
      "6     19819\n",
      "13    17363\n",
      "5     16157\n",
      "12    15980\n",
      "4     13823\n",
      "3     11123\n",
      "2      7598\n",
      "1      5700\n",
      "Name: count, dtype: int64\n",
      "Education\n",
      "6    42.307237\n",
      "5    27.558341\n",
      "4    24.735888\n",
      "3     3.736203\n",
      "2     1.593740\n",
      "1     0.068590\n",
      "Name: proportion, dtype: float64 Education\n",
      "6    107325\n",
      "5     69910\n",
      "4     62750\n",
      "3      9478\n",
      "2      4043\n",
      "1       174\n",
      "Name: count, dtype: int64\n",
      "Income\n",
      "8    35.629533\n",
      "7    17.036818\n",
      "6    14.376380\n",
      "5    10.203012\n",
      "4     7.937165\n",
      "3     6.304793\n",
      "2     4.644828\n",
      "1     3.867471\n",
      "Name: proportion, dtype: float64 Income\n",
      "8    90385\n",
      "7    43219\n",
      "6    36470\n",
      "5    25883\n",
      "4    20135\n",
      "3    15994\n",
      "2    11783\n",
      "1     9811\n",
      "Name: count, dtype: int64\n"
     ]
    }
   ],
   "source": [
    "# Sparsity - are there two few cases in columns? \n",
    "for x in X.columns:\n",
    "    print(X[x].value_counts(normalize=True)*100, X[x].value_counts())"
   ]
  },
  {
   "cell_type": "markdown",
   "id": "ca65ab0c",
   "metadata": {},
   "source": [
    "### Off the Cuff Visualizations"
   ]
  },
  {
   "cell_type": "code",
   "execution_count": 312,
   "id": "4a5c8a2c",
   "metadata": {},
   "outputs": [],
   "source": [
    "# We need full data set with target\n",
    "FullDF = cdc_diabetes_health_indicators.data.original"
   ]
  },
  {
   "cell_type": "code",
   "execution_count": 314,
   "id": "9e58fc63",
   "metadata": {},
   "outputs": [],
   "source": [
    "# Plot A few Variables Against the Target \n",
    "# Combine y and x data for plotting\n",
    "subset = FullDF[['Income', 'Age', 'Education','Diabetes_binary']]\n",
    "m = subset.melt(id_vars=['Diabetes_binary'], var_name='feature')"
   ]
  },
  {
   "cell_type": "code",
   "execution_count": 316,
   "id": "4190fc86",
   "metadata": {},
   "outputs": [
    {
     "name": "stderr",
     "output_type": "stream",
     "text": [
      "C:\\Users\\avales\\anaconda3\\Lib\\site-packages\\seaborn\\axisgrid.py:118: UserWarning: The figure layout has changed to tight\n",
      "  self._figure.tight_layout(*args, **kwargs)\n"
     ]
    },
    {
     "data": {
      "text/plain": [
       "<Figure size 1500x800 with 0 Axes>"
      ]
     },
     "execution_count": 316,
     "metadata": {},
     "output_type": "execute_result"
    },
    {
     "data": {
      "image/png": "[encoded data removed]",
      "text/plain": [
       "<Figure size 1000x1000 with 3 Axes>"
      ]
     },
     "metadata": {},
     "output_type": "display_data"
    },
    {
     "data": {
      "text/plain": [
       "<Figure size 1500x800 with 0 Axes>"
      ]
     },
     "metadata": {},
     "output_type": "display_data"
    }
   ],
   "source": [
    "sns.catplot(data=m, x='Diabetes_binary', y='value', col='feature', kind='bar', col_wrap=2)\n",
    "plt.figure(figsize=(15,8))"
   ]
  },
  {
   "cell_type": "markdown",
   "id": "a3d8ffd1",
   "metadata": {},
   "source": [
    "The following bar plots show that these variables might not be indicative or being able to predict diabetes. We cannot see clear distinctions, albeit I have left categories as numeric. "
   ]
  },
  {
   "cell_type": "code",
   "execution_count": 317,
   "id": "33354634",
   "metadata": {
    "scrolled": true
   },
   "outputs": [
    {
     "data": {
      "text/plain": [
       "<Axes: xlabel='Diabetes_binary', ylabel='BMI'>"
      ]
     },
     "execution_count": 317,
     "metadata": {},
     "output_type": "execute_result"
    },
    {
     "data": {
      "image/png": "[encoded data removed]",
      "text/plain": [
       "<Figure size 640x480 with 1 Axes>"
      ]
     },
     "metadata": {},
     "output_type": "display_data"
    }
   ],
   "source": [
    "# Box Plot of BMI and Diabetes\n",
    "sns.boxplot(x='Diabetes_binary', y='BMI', data=FullDF)"
   ]
  },
  {
   "cell_type": "code",
   "execution_count": 318,
   "id": "2a2fc668",
   "metadata": {},
   "outputs": [
    {
     "data": {
      "text/plain": [
       "<Axes: xlabel='Diabetes_binary', ylabel='Age'>"
      ]
     },
     "execution_count": 318,
     "metadata": {},
     "output_type": "execute_result"
    },
    {
     "data": {
      "image/png": "[encoded data removed]",
      "text/plain": [
       "<Figure size 640x480 with 1 Axes>"
      ]
     },
     "metadata": {},
     "output_type": "display_data"
    }
   ],
   "source": [
    "# Box Plot of Age and Diabetes\n",
    "sns.boxplot(x='Diabetes_binary', y='Age', data=FullDF)"
   ]
  },
  {
   "cell_type": "code",
   "execution_count": 319,
   "id": "7c03a868",
   "metadata": {},
   "outputs": [
    {
     "data": {
      "text/plain": [
       "<Axes: xlabel='Diabetes_binary', ylabel='MentHlth'>"
      ]
     },
     "execution_count": 319,
     "metadata": {},
     "output_type": "execute_result"
    },
    {
     "data": {
      "image/png": "[encoded data removed]",
      "text/plain": [
       "<Figure size 640x480 with 1 Axes>"
      ]
     },
     "metadata": {},
     "output_type": "display_data"
    }
   ],
   "source": [
    "# Box Plot of Menthlth and Diabetes\n",
    "sns.boxplot(x='Diabetes_binary', y='MentHlth', data=FullDF)"
   ]
  },
  {
   "cell_type": "markdown",
   "id": "e56298b0",
   "metadata": {},
   "source": [
    "The above box plots do show some outliers, however, I have chosen a model that is insensitive to outliers (Random Forest) as well as the need for scaling. Again, I don't see clear distinctions that pop out and show a variable is extremely predictive for diabetes. Below, I will be manipulating variables into different bins due to lower variance (BMI and Education). "
   ]
  },
  {
   "cell_type": "markdown",
   "id": "72329bb0",
   "metadata": {},
   "source": [
    "### Further Data Manipulation"
   ]
  },
  {
   "cell_type": "code",
   "execution_count": 320,
   "id": "4d82074b",
   "metadata": {},
   "outputs": [
    {
     "name": "stderr",
     "output_type": "stream",
     "text": [
      "C:\\Users\\avales\\AppData\\Local\\Temp\\ipykernel_28796\\4160622568.py:7: SettingWithCopyWarning: \n",
      "A value is trying to be set on a copy of a slice from a DataFrame.\n",
      "Try using .loc[row_indexer,col_indexer] = value instead\n",
      "\n",
      "See the caveats in the documentation: https://pandas.pydata.org/pandas-docs/stable/user_guide/indexing.html#returning-a-view-versus-a-copy\n",
      "  X['BMIRange'] = pd.cut(X['BMI'], bins, labels=names, ordered= False)\n"
     ]
    }
   ],
   "source": [
    "# Reclassify BMI as Healthy Weight, Unhealthy Weight (undeweight, overweigth, obese)\n",
    "bins = [0, 18, 25, np.inf]\n",
    "names = ['Unhealthy', 'Healthy', 'Unhealthy']\n",
    "\n",
    "X['BMIRange'] = pd.cut(X['BMI'], bins, labels=names, ordered= False)"
   ]
  },
  {
   "cell_type": "code",
   "execution_count": 368,
   "id": "f26b3428",
   "metadata": {},
   "outputs": [],
   "source": [
    "# Perform Data Checks\n",
    "#print(X[['BMI', 'BMIRange']].groupby(['BMIRange']).agg(['min','max']))\n",
    "\n",
    "# Also check values in the middle\n",
    "#print(X[['BMI', 'BMIRange']][X.BMI  == 18])"
   ]
  },
  {
   "cell_type": "code",
   "execution_count": 322,
   "id": "bbb54fe4",
   "metadata": {},
   "outputs": [],
   "source": [
    "pd.DataFrame(X.Education.value_counts()).sort_index() # Consider Regrouping\n",
    "\n",
    "bins_edu = [0, 4, np.inf]\n",
    "names_edu = ['Up to High School', 'College and Greater']\n",
    "X['EduRange'] = pd.cut(X['Education'], bins_edu, labels=names_edu, ordered= False)"
   ]
  },
  {
   "cell_type": "code",
   "execution_count": 323,
   "id": "a2338242",
   "metadata": {
    "scrolled": true
   },
   "outputs": [
    {
     "name": "stdout",
     "output_type": "stream",
     "text": [
      "EduRange             Education\n",
      "College and Greater  6            107325\n",
      "                     5             69910\n",
      "Up to High School    4             62750\n",
      "                     3              9478\n",
      "                     2              4043\n",
      "                     1               174\n",
      "Name: count, dtype: int64\n"
     ]
    }
   ],
   "source": [
    "#print(X[['EduRange', 'Education']].groupby(['EduRange']).agg(['min','max']))\n",
    "\n",
    "# Also check values in the middle\n",
    "print(X[['EduRange', 'Education']].value_counts())"
   ]
  },
  {
   "cell_type": "code",
   "execution_count": 325,
   "id": "94577c38",
   "metadata": {},
   "outputs": [],
   "source": [
    "# Drop Old Columns \n",
    "X = X.drop(['BMI','Education'], axis=1)"
   ]
  },
  {
   "cell_type": "markdown",
   "id": "632e086e",
   "metadata": {},
   "source": [
    "### Data Splitting"
   ]
  },
  {
   "cell_type": "code",
   "execution_count": 327,
   "id": "0ff10d6d",
   "metadata": {},
   "outputs": [],
   "source": [
    "X_train, X_test, y_train, y_test = train_test_split(X, y, test_size=0.50, random_state=1, stratify=y)"
   ]
  },
  {
   "cell_type": "code",
   "execution_count": 328,
   "id": "05580c6c",
   "metadata": {},
   "outputs": [
    {
     "name": "stdout",
     "output_type": "stream",
     "text": [
      "Diabetes_binary\n",
      "0                  43.033349\n",
      "1                   6.966651\n",
      "Name: count, dtype: float64 Diabetes_binary\n",
      "0                  43.033349\n",
      "1                   6.966651\n",
      "Name: count, dtype: float64\n"
     ]
    }
   ],
   "source": [
    "print(y_test.value_counts()/len(y)*100, y_train.value_counts()/len(y)*100) # Both Test and Train have same proportions"
   ]
  },
  {
   "cell_type": "markdown",
   "id": "184e30ca",
   "metadata": {},
   "source": [
    "During Data Splitting, I have stratefied the target variable to ensure an equal representation among test and train."
   ]
  },
  {
   "cell_type": "markdown",
   "id": "cc041a6c",
   "metadata": {},
   "source": [
    "### PreProcessing "
   ]
  },
  {
   "cell_type": "code",
   "execution_count": 329,
   "id": "9de6dcb5",
   "metadata": {},
   "outputs": [],
   "source": [
    "# Different Transformers\n",
    "preprocessor = ColumnTransformer(\n",
    "    [\n",
    "        #('scaling', StandardScaler(), ['BMI', 'MentHlth', 'PhysHlth']),\n",
    "        ('onehot', OneHotEncoder(sparse_output=False),['Age', 'EduRange', 'Income', 'BMIRange'])\n",
    "    ]\n",
    ")"
   ]
  },
  {
   "cell_type": "markdown",
   "id": "4826ff26",
   "metadata": {},
   "source": [
    "### Fit & Transform Data after Preprocessing"
   ]
  },
  {
   "cell_type": "code",
   "execution_count": 330,
   "id": "0cef81fa",
   "metadata": {},
   "outputs": [],
   "source": [
    "# fit and transform x\n",
    "preprocessor.fit(X_train)\n",
    "X_train_trans = preprocessor.transform(X_train)\n",
    "\n",
    "# transform y\n",
    "X_test_trans = preprocessor.transform(X_test)"
   ]
  },
  {
   "cell_type": "code",
   "execution_count": 334,
   "id": "67d27190",
   "metadata": {},
   "outputs": [
    {
     "name": "stdout",
     "output_type": "stream",
     "text": [
      "(126840, 25)\n",
      "(126840, 25)\n"
     ]
    }
   ],
   "source": [
    "print(X_train_trans.shape)\n",
    "print(X_test_trans.shape)"
   ]
  },
  {
   "cell_type": "markdown",
   "id": "ccdf6826",
   "metadata": {},
   "source": [
    "We gained 4 more columns"
   ]
  },
  {
   "cell_type": "markdown",
   "id": "e56b67da",
   "metadata": {},
   "source": [
    "### Fitting Random Forest Model"
   ]
  },
  {
   "cell_type": "code",
   "execution_count": 335,
   "id": "e9bd997d",
   "metadata": {},
   "outputs": [
    {
     "data": {
      "text/html": [
       "<style>#sk-container-id-11 {\n",
       "  /* Definition of color scheme common for light and dark mode */\n",
       "  --sklearn-color-text: black;\n",
       "  --sklearn-color-line: gray;\n",
       "  /* Definition of color scheme for unfitted estimators */\n",
       "  --sklearn-color-unfitted-level-0: #fff5e6;\n",
       "  --sklearn-color-unfitted-level-1: #f6e4d2;\n",
       "  --sklearn-color-unfitted-level-2: #ffe0b3;\n",
       "  --sklearn-color-unfitted-level-3: chocolate;\n",
       "  /* Definition of color scheme for fitted estimators */\n",
       "  --sklearn-color-fitted-level-0: #f0f8ff;\n",
       "  --sklearn-color-fitted-level-1: #d4ebff;\n",
       "  --sklearn-color-fitted-level-2: #b3dbfd;\n",
       "  --sklearn-color-fitted-level-3: cornflowerblue;\n",
       "\n",
       "  /* Specific color for light theme */\n",
       "  --sklearn-color-text-on-default-background: var(--sg-text-color, var(--theme-code-foreground, var(--jp-content-font-color1, black)));\n",
       "  --sklearn-color-background: var(--sg-background-color, var(--theme-background, var(--jp-layout-color0, white)));\n",
       "  --sklearn-color-border-box: var(--sg-text-color, var(--theme-code-foreground, var(--jp-content-font-color1, black)));\n",
       "  --sklearn-color-icon: #696969;\n",
       "\n",
       "  @media (prefers-color-scheme: dark) {\n",
       "    /* Redefinition of color scheme for dark theme */\n",
       "    --sklearn-color-text-on-default-background: var(--sg-text-color, var(--theme-code-foreground, var(--jp-content-font-color1, white)));\n",
       "    --sklearn-color-background: var(--sg-background-color, var(--theme-background, var(--jp-layout-color0, #111)));\n",
       "    --sklearn-color-border-box: var(--sg-text-color, var(--theme-code-foreground, var(--jp-content-font-color1, white)));\n",
       "    --sklearn-color-icon: #878787;\n",
       "  }\n",
       "}\n",
       "\n",
       "#sk-container-id-11 {\n",
       "  color: var(--sklearn-color-text);\n",
       "}\n",
       "\n",
       "#sk-container-id-11 pre {\n",
       "  padding: 0;\n",
       "}\n",
       "\n",
       "#sk-container-id-11 input.sk-hidden--visually {\n",
       "  border: 0;\n",
       "  clip: rect(1px 1px 1px 1px);\n",
       "  clip: rect(1px, 1px, 1px, 1px);\n",
       "  height: 1px;\n",
       "  margin: -1px;\n",
       "  overflow: hidden;\n",
       "  padding: 0;\n",
       "  position: absolute;\n",
       "  width: 1px;\n",
       "}\n",
       "\n",
       "#sk-container-id-11 div.sk-dashed-wrapped {\n",
       "  border: 1px dashed var(--sklearn-color-line);\n",
       "  margin: 0 0.4em 0.5em 0.4em;\n",
       "  box-sizing: border-box;\n",
       "  padding-bottom: 0.4em;\n",
       "  background-color: var(--sklearn-color-background);\n",
       "}\n",
       "\n",
       "#sk-container-id-11 div.sk-container {\n",
       "  /* jupyter's `normalize.less` sets `[hidden] { display: none; }`\n",
       "     but bootstrap.min.css set `[hidden] { display: none !important; }`\n",
       "     so we also need the `!important` here to be able to override the\n",
       "     default hidden behavior on the sphinx rendered scikit-learn.org.\n",
       "     See: https://github.com/scikit-learn/scikit-learn/issues/21755 */\n",
       "  display: inline-block !important;\n",
       "  position: relative;\n",
       "}\n",
       "\n",
       "#sk-container-id-11 div.sk-text-repr-fallback {\n",
       "  display: none;\n",
       "}\n",
       "\n",
       "div.sk-parallel-item,\n",
       "div.sk-serial,\n",
       "div.sk-item {\n",
       "  /* draw centered vertical line to link estimators */\n",
       "  background-image: linear-gradient(var(--sklearn-color-text-on-default-background), var(--sklearn-color-text-on-default-background));\n",
       "  background-size: 2px 100%;\n",
       "  background-repeat: no-repeat;\n",
       "  background-position: center center;\n",
       "}\n",
       "\n",
       "/* Parallel-specific style estimator block */\n",
       "\n",
       "#sk-container-id-11 div.sk-parallel-item::after {\n",
       "  content: \"\";\n",
       "  width: 100%;\n",
       "  border-bottom: 2px solid var(--sklearn-color-text-on-default-background);\n",
       "  flex-grow: 1;\n",
       "}\n",
       "\n",
       "#sk-container-id-11 div.sk-parallel {\n",
       "  display: flex;\n",
       "  align-items: stretch;\n",
       "  justify-content: center;\n",
       "  background-color: var(--sklearn-color-background);\n",
       "  position: relative;\n",
       "}\n",
       "\n",
       "#sk-container-id-11 div.sk-parallel-item {\n",
       "  display: flex;\n",
       "  flex-direction: column;\n",
       "}\n",
       "\n",
       "#sk-container-id-11 div.sk-parallel-item:first-child::after {\n",
       "  align-self: flex-end;\n",
       "  width: 50%;\n",
       "}\n",
       "\n",
       "#sk-container-id-11 div.sk-parallel-item:last-child::after {\n",
       "  align-self: flex-start;\n",
       "  width: 50%;\n",
       "}\n",
       "\n",
       "#sk-container-id-11 div.sk-parallel-item:only-child::after {\n",
       "  width: 0;\n",
       "}\n",
       "\n",
       "/* Serial-specific style estimator block */\n",
       "\n",
       "#sk-container-id-11 div.sk-serial {\n",
       "  display: flex;\n",
       "  flex-direction: column;\n",
       "  align-items: center;\n",
       "  background-color: var(--sklearn-color-background);\n",
       "  padding-right: 1em;\n",
       "  padding-left: 1em;\n",
       "}\n",
       "\n",
       "\n",
       "/* Toggleable style: style used for estimator/Pipeline/ColumnTransformer box that is\n",
       "clickable and can be expanded/collapsed.\n",
       "- Pipeline and ColumnTransformer use this feature and define the default style\n",
       "- Estimators will overwrite some part of the style using the `sk-estimator` class\n",
       "*/\n",
       "\n",
       "/* Pipeline and ColumnTransformer style (default) */\n",
       "\n",
       "#sk-container-id-11 div.sk-toggleable {\n",
       "  /* Default theme specific background. It is overwritten whether we have a\n",
       "  specific estimator or a Pipeline/ColumnTransformer */\n",
       "  background-color: var(--sklearn-color-background);\n",
       "}\n",
       "\n",
       "/* Toggleable label */\n",
       "#sk-container-id-11 label.sk-toggleable__label {\n",
       "  cursor: pointer;\n",
       "  display: block;\n",
       "  width: 100%;\n",
       "  margin-bottom: 0;\n",
       "  padding: 0.5em;\n",
       "  box-sizing: border-box;\n",
       "  text-align: center;\n",
       "}\n",
       "\n",
       "#sk-container-id-11 label.sk-toggleable__label-arrow:before {\n",
       "  /* Arrow on the left of the label */\n",
       "  content: \"▸\";\n",
       "  float: left;\n",
       "  margin-right: 0.25em;\n",
       "  color: var(--sklearn-color-icon);\n",
       "}\n",
       "\n",
       "#sk-container-id-11 label.sk-toggleable__label-arrow:hover:before {\n",
       "  color: var(--sklearn-color-text);\n",
       "}\n",
       "\n",
       "/* Toggleable content - dropdown */\n",
       "\n",
       "#sk-container-id-11 div.sk-toggleable__content {\n",
       "  max-height: 0;\n",
       "  max-width: 0;\n",
       "  overflow: hidden;\n",
       "  text-align: left;\n",
       "  /* unfitted */\n",
       "  background-color: var(--sklearn-color-unfitted-level-0);\n",
       "}\n",
       "\n",
       "#sk-container-id-11 div.sk-toggleable__content.fitted {\n",
       "  /* fitted */\n",
       "  background-color: var(--sklearn-color-fitted-level-0);\n",
       "}\n",
       "\n",
       "#sk-container-id-11 div.sk-toggleable__content pre {\n",
       "  margin: 0.2em;\n",
       "  border-radius: 0.25em;\n",
       "  color: var(--sklearn-color-text);\n",
       "  /* unfitted */\n",
       "  background-color: var(--sklearn-color-unfitted-level-0);\n",
       "}\n",
       "\n",
       "#sk-container-id-11 div.sk-toggleable__content.fitted pre {\n",
       "  /* unfitted */\n",
       "  background-color: var(--sklearn-color-fitted-level-0);\n",
       "}\n",
       "\n",
       "#sk-container-id-11 input.sk-toggleable__control:checked~div.sk-toggleable__content {\n",
       "  /* Expand drop-down */\n",
       "  max-height: 200px;\n",
       "  max-width: 100%;\n",
       "  overflow: auto;\n",
       "}\n",
       "\n",
       "#sk-container-id-11 input.sk-toggleable__control:checked~label.sk-toggleable__label-arrow:before {\n",
       "  content: \"▾\";\n",
       "}\n",
       "\n",
       "/* Pipeline/ColumnTransformer-specific style */\n",
       "\n",
       "#sk-container-id-11 div.sk-label input.sk-toggleable__control:checked~label.sk-toggleable__label {\n",
       "  color: var(--sklearn-color-text);\n",
       "  background-color: var(--sklearn-color-unfitted-level-2);\n",
       "}\n",
       "\n",
       "#sk-container-id-11 div.sk-label.fitted input.sk-toggleable__control:checked~label.sk-toggleable__label {\n",
       "  background-color: var(--sklearn-color-fitted-level-2);\n",
       "}\n",
       "\n",
       "/* Estimator-specific style */\n",
       "\n",
       "/* Colorize estimator box */\n",
       "#sk-container-id-11 div.sk-estimator input.sk-toggleable__control:checked~label.sk-toggleable__label {\n",
       "  /* unfitted */\n",
       "  background-color: var(--sklearn-color-unfitted-level-2);\n",
       "}\n",
       "\n",
       "#sk-container-id-11 div.sk-estimator.fitted input.sk-toggleable__control:checked~label.sk-toggleable__label {\n",
       "  /* fitted */\n",
       "  background-color: var(--sklearn-color-fitted-level-2);\n",
       "}\n",
       "\n",
       "#sk-container-id-11 div.sk-label label.sk-toggleable__label,\n",
       "#sk-container-id-11 div.sk-label label {\n",
       "  /* The background is the default theme color */\n",
       "  color: var(--sklearn-color-text-on-default-background);\n",
       "}\n",
       "\n",
       "/* On hover, darken the color of the background */\n",
       "#sk-container-id-11 div.sk-label:hover label.sk-toggleable__label {\n",
       "  color: var(--sklearn-color-text);\n",
       "  background-color: var(--sklearn-color-unfitted-level-2);\n",
       "}\n",
       "\n",
       "/* Label box, darken color on hover, fitted */\n",
       "#sk-container-id-11 div.sk-label.fitted:hover label.sk-toggleable__label.fitted {\n",
       "  color: var(--sklearn-color-text);\n",
       "  background-color: var(--sklearn-color-fitted-level-2);\n",
       "}\n",
       "\n",
       "/* Estimator label */\n",
       "\n",
       "#sk-container-id-11 div.sk-label label {\n",
       "  font-family: monospace;\n",
       "  font-weight: bold;\n",
       "  display: inline-block;\n",
       "  line-height: 1.2em;\n",
       "}\n",
       "\n",
       "#sk-container-id-11 div.sk-label-container {\n",
       "  text-align: center;\n",
       "}\n",
       "\n",
       "/* Estimator-specific */\n",
       "#sk-container-id-11 div.sk-estimator {\n",
       "  font-family: monospace;\n",
       "  border: 1px dotted var(--sklearn-color-border-box);\n",
       "  border-radius: 0.25em;\n",
       "  box-sizing: border-box;\n",
       "  margin-bottom: 0.5em;\n",
       "  /* unfitted */\n",
       "  background-color: var(--sklearn-color-unfitted-level-0);\n",
       "}\n",
       "\n",
       "#sk-container-id-11 div.sk-estimator.fitted {\n",
       "  /* fitted */\n",
       "  background-color: var(--sklearn-color-fitted-level-0);\n",
       "}\n",
       "\n",
       "/* on hover */\n",
       "#sk-container-id-11 div.sk-estimator:hover {\n",
       "  /* unfitted */\n",
       "  background-color: var(--sklearn-color-unfitted-level-2);\n",
       "}\n",
       "\n",
       "#sk-container-id-11 div.sk-estimator.fitted:hover {\n",
       "  /* fitted */\n",
       "  background-color: var(--sklearn-color-fitted-level-2);\n",
       "}\n",
       "\n",
       "/* Specification for estimator info (e.g. \"i\" and \"?\") */\n",
       "\n",
       "/* Common style for \"i\" and \"?\" */\n",
       "\n",
       ".sk-estimator-doc-link,\n",
       "a:link.sk-estimator-doc-link,\n",
       "a:visited.sk-estimator-doc-link {\n",
       "  float: right;\n",
       "  font-size: smaller;\n",
       "  line-height: 1em;\n",
       "  font-family: monospace;\n",
       "  background-color: var(--sklearn-color-background);\n",
       "  border-radius: 1em;\n",
       "  height: 1em;\n",
       "  width: 1em;\n",
       "  text-decoration: none !important;\n",
       "  margin-left: 1ex;\n",
       "  /* unfitted */\n",
       "  border: var(--sklearn-color-unfitted-level-1) 1pt solid;\n",
       "  color: var(--sklearn-color-unfitted-level-1);\n",
       "}\n",
       "\n",
       ".sk-estimator-doc-link.fitted,\n",
       "a:link.sk-estimator-doc-link.fitted,\n",
       "a:visited.sk-estimator-doc-link.fitted {\n",
       "  /* fitted */\n",
       "  border: var(--sklearn-color-fitted-level-1) 1pt solid;\n",
       "  color: var(--sklearn-color-fitted-level-1);\n",
       "}\n",
       "\n",
       "/* On hover */\n",
       "div.sk-estimator:hover .sk-estimator-doc-link:hover,\n",
       ".sk-estimator-doc-link:hover,\n",
       "div.sk-label-container:hover .sk-estimator-doc-link:hover,\n",
       ".sk-estimator-doc-link:hover {\n",
       "  /* unfitted */\n",
       "  background-color: var(--sklearn-color-unfitted-level-3);\n",
       "  color: var(--sklearn-color-background);\n",
       "  text-decoration: none;\n",
       "}\n",
       "\n",
       "div.sk-estimator.fitted:hover .sk-estimator-doc-link.fitted:hover,\n",
       ".sk-estimator-doc-link.fitted:hover,\n",
       "div.sk-label-container:hover .sk-estimator-doc-link.fitted:hover,\n",
       ".sk-estimator-doc-link.fitted:hover {\n",
       "  /* fitted */\n",
       "  background-color: var(--sklearn-color-fitted-level-3);\n",
       "  color: var(--sklearn-color-background);\n",
       "  text-decoration: none;\n",
       "}\n",
       "\n",
       "/* Span, style for the box shown on hovering the info icon */\n",
       ".sk-estimator-doc-link span {\n",
       "  display: none;\n",
       "  z-index: 9999;\n",
       "  position: relative;\n",
       "  font-weight: normal;\n",
       "  right: .2ex;\n",
       "  padding: .5ex;\n",
       "  margin: .5ex;\n",
       "  width: min-content;\n",
       "  min-width: 20ex;\n",
       "  max-width: 50ex;\n",
       "  color: var(--sklearn-color-text);\n",
       "  box-shadow: 2pt 2pt 4pt #999;\n",
       "  /* unfitted */\n",
       "  background: var(--sklearn-color-unfitted-level-0);\n",
       "  border: .5pt solid var(--sklearn-color-unfitted-level-3);\n",
       "}\n",
       "\n",
       ".sk-estimator-doc-link.fitted span {\n",
       "  /* fitted */\n",
       "  background: var(--sklearn-color-fitted-level-0);\n",
       "  border: var(--sklearn-color-fitted-level-3);\n",
       "}\n",
       "\n",
       ".sk-estimator-doc-link:hover span {\n",
       "  display: block;\n",
       "}\n",
       "\n",
       "/* \"?\"-specific style due to the `<a>` HTML tag */\n",
       "\n",
       "#sk-container-id-11 a.estimator_doc_link {\n",
       "  float: right;\n",
       "  font-size: 1rem;\n",
       "  line-height: 1em;\n",
       "  font-family: monospace;\n",
       "  background-color: var(--sklearn-color-background);\n",
       "  border-radius: 1rem;\n",
       "  height: 1rem;\n",
       "  width: 1rem;\n",
       "  text-decoration: none;\n",
       "  /* unfitted */\n",
       "  color: var(--sklearn-color-unfitted-level-1);\n",
       "  border: var(--sklearn-color-unfitted-level-1) 1pt solid;\n",
       "}\n",
       "\n",
       "#sk-container-id-11 a.estimator_doc_link.fitted {\n",
       "  /* fitted */\n",
       "  border: var(--sklearn-color-fitted-level-1) 1pt solid;\n",
       "  color: var(--sklearn-color-fitted-level-1);\n",
       "}\n",
       "\n",
       "/* On hover */\n",
       "#sk-container-id-11 a.estimator_doc_link:hover {\n",
       "  /* unfitted */\n",
       "  background-color: var(--sklearn-color-unfitted-level-3);\n",
       "  color: var(--sklearn-color-background);\n",
       "  text-decoration: none;\n",
       "}\n",
       "\n",
       "#sk-container-id-11 a.estimator_doc_link.fitted:hover {\n",
       "  /* fitted */\n",
       "  background-color: var(--sklearn-color-fitted-level-3);\n",
       "}\n",
       "</style><div id=\"sk-container-id-11\" class=\"sk-top-container\"><div class=\"sk-text-repr-fallback\"><pre>RandomForestClassifier(class_weight=&#x27;balanced&#x27;, n_jobs=-1)</pre><b>In a Jupyter environment, please rerun this cell to show the HTML representation or trust the notebook. <br />On GitHub, the HTML representation is unable to render, please try loading this page with nbviewer.org.</b></div><div class=\"sk-container\" hidden><div class=\"sk-item\"><div class=\"sk-estimator fitted sk-toggleable\"><input class=\"sk-toggleable__control sk-hidden--visually\" id=\"sk-estimator-id-15\" type=\"checkbox\" checked><label for=\"sk-estimator-id-15\" class=\"sk-toggleable__label fitted sk-toggleable__label-arrow fitted\">&nbsp;&nbsp;RandomForestClassifier<a class=\"sk-estimator-doc-link fitted\" rel=\"noreferrer\" target=\"_blank\" href=\"https://scikit-learn.org/1.4/modules/generated/sklearn.ensemble.RandomForestClassifier.html\">?<span>Documentation for RandomForestClassifier</span></a><span class=\"sk-estimator-doc-link fitted\">i<span>Fitted</span></span></label><div class=\"sk-toggleable__content fitted\"><pre>RandomForestClassifier(class_weight=&#x27;balanced&#x27;, n_jobs=-1)</pre></div> </div></div></div></div>"
      ],
      "text/plain": [
       "RandomForestClassifier(class_weight='balanced', n_jobs=-1)"
      ]
     },
     "execution_count": 335,
     "metadata": {},
     "output_type": "execute_result"
    }
   ],
   "source": [
    "RF = RandomForestClassifier(class_weight='balanced',n_jobs = -1) # instantiate Random Forest\n",
    "# Convert y_train and y_test to 1 d arrays\n",
    "array_y_train = np.ravel(y_train)\n",
    "array_y_test = np.ravel(y_test)\n",
    "\n",
    "#Fit the data\n",
    "RF.fit(X_train_trans, array_y_train)"
   ]
  },
  {
   "cell_type": "markdown",
   "id": "ce61c630",
   "metadata": {},
   "source": [
    "In the following instantiation, I am trying to use all cores in my computer for processing and to use a balanced approach for class imbalance."
   ]
  },
  {
   "cell_type": "code",
   "execution_count": 336,
   "id": "fb97c566",
   "metadata": {},
   "outputs": [
    {
     "data": {
      "text/plain": [
       "0.6208688111005992"
      ]
     },
     "execution_count": 336,
     "metadata": {},
     "output_type": "execute_result"
    }
   ],
   "source": [
    "# Evaluate Model on Test Set\n",
    "RF.score(X_test_trans, array_y_test)"
   ]
  },
  {
   "cell_type": "markdown",
   "id": "d94530f5",
   "metadata": {},
   "source": [
    "The initial accuracy is not that great, howerver, we are much more interetsed in recall which we will see in the classification report. "
   ]
  },
  {
   "cell_type": "markdown",
   "id": "153d4120",
   "metadata": {},
   "source": [
    "### How was is my data Generalization (K fold cross validation)"
   ]
  },
  {
   "cell_type": "code",
   "execution_count": 337,
   "id": "e796ea82",
   "metadata": {},
   "outputs": [],
   "source": [
    "kfold = KFold(n_splits = 5)\n",
    "test_scores = cross_val_score(RF,X_test_trans, array_y_test, cv = kfold)"
   ]
  },
  {
   "cell_type": "code",
   "execution_count": 338,
   "id": "ec00c00f",
   "metadata": {},
   "outputs": [
    {
     "name": "stdout",
     "output_type": "stream",
     "text": [
      "   TestScore\n",
      "0   0.622319\n",
      "1   0.642660\n",
      "2   0.621334\n",
      "3   0.620073\n",
      "4   0.634027\n"
     ]
    }
   ],
   "source": [
    "print(pd.DataFrame({'TestScore': test_scores}))"
   ]
  },
  {
   "cell_type": "markdown",
   "id": "edd9161a",
   "metadata": {},
   "source": [
    "According to our 5 fold cross validation, we can assume a generalization of 62% accuracy. "
   ]
  },
  {
   "cell_type": "markdown",
   "id": "199ade81",
   "metadata": {},
   "source": [
    "### Confusion Matrix (False Positives & True Negatives)"
   ]
  },
  {
   "cell_type": "code",
   "execution_count": 339,
   "id": "12336393",
   "metadata": {},
   "outputs": [],
   "source": [
    "confusion = confusion_matrix(array_y_test, RF.predict(X_test_trans), labels = RF.classes_)\n",
    "\n",
    "# Positive Class is Diabetes = 1\n",
    "# Negative Class is Diabetes = 0 "
   ]
  },
  {
   "cell_type": "code",
   "execution_count": 340,
   "id": "4fe075bd",
   "metadata": {},
   "outputs": [
    {
     "data": {
      "image/png": "[encoded data removed]",
      "text/plain": [
       "<Figure size 640x480 with 2 Axes>"
      ]
     },
     "metadata": {},
     "output_type": "display_data"
    }
   ],
   "source": [
    "disp = ConfusionMatrixDisplay(confusion_matrix=confusion,\n",
    "                              display_labels=RF.classes_)\n",
    "disp.plot()\n",
    "plt.show()"
   ]
  },
  {
   "cell_type": "code",
   "execution_count": 341,
   "id": "a30aafd6",
   "metadata": {},
   "outputs": [],
   "source": [
    "CReport = classification_report(array_y_test, RF.predict(X_test_trans))"
   ]
  },
  {
   "cell_type": "code",
   "execution_count": 342,
   "id": "7ea4d02f",
   "metadata": {
    "scrolled": true
   },
   "outputs": [
    {
     "name": "stdout",
     "output_type": "stream",
     "text": [
      "              precision    recall  f1-score   support\n",
      "\n",
      "           0       0.94      0.60      0.73    109167\n",
      "           1       0.23      0.74      0.35     17673\n",
      "\n",
      "    accuracy                           0.62    126840\n",
      "   macro avg       0.58      0.67      0.54    126840\n",
      "weighted avg       0.84      0.62      0.68    126840\n",
      "\n"
     ]
    }
   ],
   "source": [
    "print(CReport)"
   ]
  },
  {
   "cell_type": "markdown",
   "id": "24d12e8e",
   "metadata": {},
   "source": [
    "Our recall is 74% or True Positives/(True Positives + False Positives).\n",
    "In the above confusion matrix this would be 13164/(13164 + 4509). This implies 74% of the time we can identify all cases\n",
    "of the target class while actually predicting the target class or precision is 23%. Ouch!\n",
    "Over all our model is only accurate 62% of the time. This is a non functional model. Social indicators are not\n",
    "enough to predict diabetes. We need more indicative features. We can try to improve statistics by hyper turning via grid search."
   ]
  },
  {
   "cell_type": "markdown",
   "id": "3cb4ad1e",
   "metadata": {},
   "source": [
    "### Grid Search & Hyperparamater Tuning"
   ]
  },
  {
   "cell_type": "code",
   "execution_count": 360,
   "id": "4a2496b2",
   "metadata": {},
   "outputs": [],
   "source": [
    "# We can try different parameters in Random Forest using a grid search \n",
    "# n_estimators\n",
    "# max_features (sqrt(n_features))\n",
    "max_feat = int(X_train_trans.shape[1]**.5)\n",
    "\n",
    "param_grid = {'n_estimators':[25,50,75,100,250],\n",
    "             'max_features': [max_feat, max_feat - 1, max_feat-2]\n",
    "             }"
   ]
  },
  {
   "cell_type": "code",
   "execution_count": 361,
   "id": "ad2946da",
   "metadata": {
    "scrolled": true
   },
   "outputs": [
    {
     "data": {
      "text/html": [
       "<style>#sk-container-id-14 {\n",
       "  /* Definition of color scheme common for light and dark mode */\n",
       "  --sklearn-color-text: black;\n",
       "  --sklearn-color-line: gray;\n",
       "  /* Definition of color scheme for unfitted estimators */\n",
       "  --sklearn-color-unfitted-level-0: #fff5e6;\n",
       "  --sklearn-color-unfitted-level-1: #f6e4d2;\n",
       "  --sklearn-color-unfitted-level-2: #ffe0b3;\n",
       "  --sklearn-color-unfitted-level-3: chocolate;\n",
       "  /* Definition of color scheme for fitted estimators */\n",
       "  --sklearn-color-fitted-level-0: #f0f8ff;\n",
       "  --sklearn-color-fitted-level-1: #d4ebff;\n",
       "  --sklearn-color-fitted-level-2: #b3dbfd;\n",
       "  --sklearn-color-fitted-level-3: cornflowerblue;\n",
       "\n",
       "  /* Specific color for light theme */\n",
       "  --sklearn-color-text-on-default-background: var(--sg-text-color, var(--theme-code-foreground, var(--jp-content-font-color1, black)));\n",
       "  --sklearn-color-background: var(--sg-background-color, var(--theme-background, var(--jp-layout-color0, white)));\n",
       "  --sklearn-color-border-box: var(--sg-text-color, var(--theme-code-foreground, var(--jp-content-font-color1, black)));\n",
       "  --sklearn-color-icon: #696969;\n",
       "\n",
       "  @media (prefers-color-scheme: dark) {\n",
       "    /* Redefinition of color scheme for dark theme */\n",
       "    --sklearn-color-text-on-default-background: var(--sg-text-color, var(--theme-code-foreground, var(--jp-content-font-color1, white)));\n",
       "    --sklearn-color-background: var(--sg-background-color, var(--theme-background, var(--jp-layout-color0, #111)));\n",
       "    --sklearn-color-border-box: var(--sg-text-color, var(--theme-code-foreground, var(--jp-content-font-color1, white)));\n",
       "    --sklearn-color-icon: #878787;\n",
       "  }\n",
       "}\n",
       "\n",
       "#sk-container-id-14 {\n",
       "  color: var(--sklearn-color-text);\n",
       "}\n",
       "\n",
       "#sk-container-id-14 pre {\n",
       "  padding: 0;\n",
       "}\n",
       "\n",
       "#sk-container-id-14 input.sk-hidden--visually {\n",
       "  border: 0;\n",
       "  clip: rect(1px 1px 1px 1px);\n",
       "  clip: rect(1px, 1px, 1px, 1px);\n",
       "  height: 1px;\n",
       "  margin: -1px;\n",
       "  overflow: hidden;\n",
       "  padding: 0;\n",
       "  position: absolute;\n",
       "  width: 1px;\n",
       "}\n",
       "\n",
       "#sk-container-id-14 div.sk-dashed-wrapped {\n",
       "  border: 1px dashed var(--sklearn-color-line);\n",
       "  margin: 0 0.4em 0.5em 0.4em;\n",
       "  box-sizing: border-box;\n",
       "  padding-bottom: 0.4em;\n",
       "  background-color: var(--sklearn-color-background);\n",
       "}\n",
       "\n",
       "#sk-container-id-14 div.sk-container {\n",
       "  /* jupyter's `normalize.less` sets `[hidden] { display: none; }`\n",
       "     but bootstrap.min.css set `[hidden] { display: none !important; }`\n",
       "     so we also need the `!important` here to be able to override the\n",
       "     default hidden behavior on the sphinx rendered scikit-learn.org.\n",
       "     See: https://github.com/scikit-learn/scikit-learn/issues/21755 */\n",
       "  display: inline-block !important;\n",
       "  position: relative;\n",
       "}\n",
       "\n",
       "#sk-container-id-14 div.sk-text-repr-fallback {\n",
       "  display: none;\n",
       "}\n",
       "\n",
       "div.sk-parallel-item,\n",
       "div.sk-serial,\n",
       "div.sk-item {\n",
       "  /* draw centered vertical line to link estimators */\n",
       "  background-image: linear-gradient(var(--sklearn-color-text-on-default-background), var(--sklearn-color-text-on-default-background));\n",
       "  background-size: 2px 100%;\n",
       "  background-repeat: no-repeat;\n",
       "  background-position: center center;\n",
       "}\n",
       "\n",
       "/* Parallel-specific style estimator block */\n",
       "\n",
       "#sk-container-id-14 div.sk-parallel-item::after {\n",
       "  content: \"\";\n",
       "  width: 100%;\n",
       "  border-bottom: 2px solid var(--sklearn-color-text-on-default-background);\n",
       "  flex-grow: 1;\n",
       "}\n",
       "\n",
       "#sk-container-id-14 div.sk-parallel {\n",
       "  display: flex;\n",
       "  align-items: stretch;\n",
       "  justify-content: center;\n",
       "  background-color: var(--sklearn-color-background);\n",
       "  position: relative;\n",
       "}\n",
       "\n",
       "#sk-container-id-14 div.sk-parallel-item {\n",
       "  display: flex;\n",
       "  flex-direction: column;\n",
       "}\n",
       "\n",
       "#sk-container-id-14 div.sk-parallel-item:first-child::after {\n",
       "  align-self: flex-end;\n",
       "  width: 50%;\n",
       "}\n",
       "\n",
       "#sk-container-id-14 div.sk-parallel-item:last-child::after {\n",
       "  align-self: flex-start;\n",
       "  width: 50%;\n",
       "}\n",
       "\n",
       "#sk-container-id-14 div.sk-parallel-item:only-child::after {\n",
       "  width: 0;\n",
       "}\n",
       "\n",
       "/* Serial-specific style estimator block */\n",
       "\n",
       "#sk-container-id-14 div.sk-serial {\n",
       "  display: flex;\n",
       "  flex-direction: column;\n",
       "  align-items: center;\n",
       "  background-color: var(--sklearn-color-background);\n",
       "  padding-right: 1em;\n",
       "  padding-left: 1em;\n",
       "}\n",
       "\n",
       "\n",
       "/* Toggleable style: style used for estimator/Pipeline/ColumnTransformer box that is\n",
       "clickable and can be expanded/collapsed.\n",
       "- Pipeline and ColumnTransformer use this feature and define the default style\n",
       "- Estimators will overwrite some part of the style using the `sk-estimator` class\n",
       "*/\n",
       "\n",
       "/* Pipeline and ColumnTransformer style (default) */\n",
       "\n",
       "#sk-container-id-14 div.sk-toggleable {\n",
       "  /* Default theme specific background. It is overwritten whether we have a\n",
       "  specific estimator or a Pipeline/ColumnTransformer */\n",
       "  background-color: var(--sklearn-color-background);\n",
       "}\n",
       "\n",
       "/* Toggleable label */\n",
       "#sk-container-id-14 label.sk-toggleable__label {\n",
       "  cursor: pointer;\n",
       "  display: block;\n",
       "  width: 100%;\n",
       "  margin-bottom: 0;\n",
       "  padding: 0.5em;\n",
       "  box-sizing: border-box;\n",
       "  text-align: center;\n",
       "}\n",
       "\n",
       "#sk-container-id-14 label.sk-toggleable__label-arrow:before {\n",
       "  /* Arrow on the left of the label */\n",
       "  content: \"▸\";\n",
       "  float: left;\n",
       "  margin-right: 0.25em;\n",
       "  color: var(--sklearn-color-icon);\n",
       "}\n",
       "\n",
       "#sk-container-id-14 label.sk-toggleable__label-arrow:hover:before {\n",
       "  color: var(--sklearn-color-text);\n",
       "}\n",
       "\n",
       "/* Toggleable content - dropdown */\n",
       "\n",
       "#sk-container-id-14 div.sk-toggleable__content {\n",
       "  max-height: 0;\n",
       "  max-width: 0;\n",
       "  overflow: hidden;\n",
       "  text-align: left;\n",
       "  /* unfitted */\n",
       "  background-color: var(--sklearn-color-unfitted-level-0);\n",
       "}\n",
       "\n",
       "#sk-container-id-14 div.sk-toggleable__content.fitted {\n",
       "  /* fitted */\n",
       "  background-color: var(--sklearn-color-fitted-level-0);\n",
       "}\n",
       "\n",
       "#sk-container-id-14 div.sk-toggleable__content pre {\n",
       "  margin: 0.2em;\n",
       "  border-radius: 0.25em;\n",
       "  color: var(--sklearn-color-text);\n",
       "  /* unfitted */\n",
       "  background-color: var(--sklearn-color-unfitted-level-0);\n",
       "}\n",
       "\n",
       "#sk-container-id-14 div.sk-toggleable__content.fitted pre {\n",
       "  /* unfitted */\n",
       "  background-color: var(--sklearn-color-fitted-level-0);\n",
       "}\n",
       "\n",
       "#sk-container-id-14 input.sk-toggleable__control:checked~div.sk-toggleable__content {\n",
       "  /* Expand drop-down */\n",
       "  max-height: 200px;\n",
       "  max-width: 100%;\n",
       "  overflow: auto;\n",
       "}\n",
       "\n",
       "#sk-container-id-14 input.sk-toggleable__control:checked~label.sk-toggleable__label-arrow:before {\n",
       "  content: \"▾\";\n",
       "}\n",
       "\n",
       "/* Pipeline/ColumnTransformer-specific style */\n",
       "\n",
       "#sk-container-id-14 div.sk-label input.sk-toggleable__control:checked~label.sk-toggleable__label {\n",
       "  color: var(--sklearn-color-text);\n",
       "  background-color: var(--sklearn-color-unfitted-level-2);\n",
       "}\n",
       "\n",
       "#sk-container-id-14 div.sk-label.fitted input.sk-toggleable__control:checked~label.sk-toggleable__label {\n",
       "  background-color: var(--sklearn-color-fitted-level-2);\n",
       "}\n",
       "\n",
       "/* Estimator-specific style */\n",
       "\n",
       "/* Colorize estimator box */\n",
       "#sk-container-id-14 div.sk-estimator input.sk-toggleable__control:checked~label.sk-toggleable__label {\n",
       "  /* unfitted */\n",
       "  background-color: var(--sklearn-color-unfitted-level-2);\n",
       "}\n",
       "\n",
       "#sk-container-id-14 div.sk-estimator.fitted input.sk-toggleable__control:checked~label.sk-toggleable__label {\n",
       "  /* fitted */\n",
       "  background-color: var(--sklearn-color-fitted-level-2);\n",
       "}\n",
       "\n",
       "#sk-container-id-14 div.sk-label label.sk-toggleable__label,\n",
       "#sk-container-id-14 div.sk-label label {\n",
       "  /* The background is the default theme color */\n",
       "  color: var(--sklearn-color-text-on-default-background);\n",
       "}\n",
       "\n",
       "/* On hover, darken the color of the background */\n",
       "#sk-container-id-14 div.sk-label:hover label.sk-toggleable__label {\n",
       "  color: var(--sklearn-color-text);\n",
       "  background-color: var(--sklearn-color-unfitted-level-2);\n",
       "}\n",
       "\n",
       "/* Label box, darken color on hover, fitted */\n",
       "#sk-container-id-14 div.sk-label.fitted:hover label.sk-toggleable__label.fitted {\n",
       "  color: var(--sklearn-color-text);\n",
       "  background-color: var(--sklearn-color-fitted-level-2);\n",
       "}\n",
       "\n",
       "/* Estimator label */\n",
       "\n",
       "#sk-container-id-14 div.sk-label label {\n",
       "  font-family: monospace;\n",
       "  font-weight: bold;\n",
       "  display: inline-block;\n",
       "  line-height: 1.2em;\n",
       "}\n",
       "\n",
       "#sk-container-id-14 div.sk-label-container {\n",
       "  text-align: center;\n",
       "}\n",
       "\n",
       "/* Estimator-specific */\n",
       "#sk-container-id-14 div.sk-estimator {\n",
       "  font-family: monospace;\n",
       "  border: 1px dotted var(--sklearn-color-border-box);\n",
       "  border-radius: 0.25em;\n",
       "  box-sizing: border-box;\n",
       "  margin-bottom: 0.5em;\n",
       "  /* unfitted */\n",
       "  background-color: var(--sklearn-color-unfitted-level-0);\n",
       "}\n",
       "\n",
       "#sk-container-id-14 div.sk-estimator.fitted {\n",
       "  /* fitted */\n",
       "  background-color: var(--sklearn-color-fitted-level-0);\n",
       "}\n",
       "\n",
       "/* on hover */\n",
       "#sk-container-id-14 div.sk-estimator:hover {\n",
       "  /* unfitted */\n",
       "  background-color: var(--sklearn-color-unfitted-level-2);\n",
       "}\n",
       "\n",
       "#sk-container-id-14 div.sk-estimator.fitted:hover {\n",
       "  /* fitted */\n",
       "  background-color: var(--sklearn-color-fitted-level-2);\n",
       "}\n",
       "\n",
       "/* Specification for estimator info (e.g. \"i\" and \"?\") */\n",
       "\n",
       "/* Common style for \"i\" and \"?\" */\n",
       "\n",
       ".sk-estimator-doc-link,\n",
       "a:link.sk-estimator-doc-link,\n",
       "a:visited.sk-estimator-doc-link {\n",
       "  float: right;\n",
       "  font-size: smaller;\n",
       "  line-height: 1em;\n",
       "  font-family: monospace;\n",
       "  background-color: var(--sklearn-color-background);\n",
       "  border-radius: 1em;\n",
       "  height: 1em;\n",
       "  width: 1em;\n",
       "  text-decoration: none !important;\n",
       "  margin-left: 1ex;\n",
       "  /* unfitted */\n",
       "  border: var(--sklearn-color-unfitted-level-1) 1pt solid;\n",
       "  color: var(--sklearn-color-unfitted-level-1);\n",
       "}\n",
       "\n",
       ".sk-estimator-doc-link.fitted,\n",
       "a:link.sk-estimator-doc-link.fitted,\n",
       "a:visited.sk-estimator-doc-link.fitted {\n",
       "  /* fitted */\n",
       "  border: var(--sklearn-color-fitted-level-1) 1pt solid;\n",
       "  color: var(--sklearn-color-fitted-level-1);\n",
       "}\n",
       "\n",
       "/* On hover */\n",
       "div.sk-estimator:hover .sk-estimator-doc-link:hover,\n",
       ".sk-estimator-doc-link:hover,\n",
       "div.sk-label-container:hover .sk-estimator-doc-link:hover,\n",
       ".sk-estimator-doc-link:hover {\n",
       "  /* unfitted */\n",
       "  background-color: var(--sklearn-color-unfitted-level-3);\n",
       "  color: var(--sklearn-color-background);\n",
       "  text-decoration: none;\n",
       "}\n",
       "\n",
       "div.sk-estimator.fitted:hover .sk-estimator-doc-link.fitted:hover,\n",
       ".sk-estimator-doc-link.fitted:hover,\n",
       "div.sk-label-container:hover .sk-estimator-doc-link.fitted:hover,\n",
       ".sk-estimator-doc-link.fitted:hover {\n",
       "  /* fitted */\n",
       "  background-color: var(--sklearn-color-fitted-level-3);\n",
       "  color: var(--sklearn-color-background);\n",
       "  text-decoration: none;\n",
       "}\n",
       "\n",
       "/* Span, style for the box shown on hovering the info icon */\n",
       ".sk-estimator-doc-link span {\n",
       "  display: none;\n",
       "  z-index: 9999;\n",
       "  position: relative;\n",
       "  font-weight: normal;\n",
       "  right: .2ex;\n",
       "  padding: .5ex;\n",
       "  margin: .5ex;\n",
       "  width: min-content;\n",
       "  min-width: 20ex;\n",
       "  max-width: 50ex;\n",
       "  color: var(--sklearn-color-text);\n",
       "  box-shadow: 2pt 2pt 4pt #999;\n",
       "  /* unfitted */\n",
       "  background: var(--sklearn-color-unfitted-level-0);\n",
       "  border: .5pt solid var(--sklearn-color-unfitted-level-3);\n",
       "}\n",
       "\n",
       ".sk-estimator-doc-link.fitted span {\n",
       "  /* fitted */\n",
       "  background: var(--sklearn-color-fitted-level-0);\n",
       "  border: var(--sklearn-color-fitted-level-3);\n",
       "}\n",
       "\n",
       ".sk-estimator-doc-link:hover span {\n",
       "  display: block;\n",
       "}\n",
       "\n",
       "/* \"?\"-specific style due to the `<a>` HTML tag */\n",
       "\n",
       "#sk-container-id-14 a.estimator_doc_link {\n",
       "  float: right;\n",
       "  font-size: 1rem;\n",
       "  line-height: 1em;\n",
       "  font-family: monospace;\n",
       "  background-color: var(--sklearn-color-background);\n",
       "  border-radius: 1rem;\n",
       "  height: 1rem;\n",
       "  width: 1rem;\n",
       "  text-decoration: none;\n",
       "  /* unfitted */\n",
       "  color: var(--sklearn-color-unfitted-level-1);\n",
       "  border: var(--sklearn-color-unfitted-level-1) 1pt solid;\n",
       "}\n",
       "\n",
       "#sk-container-id-14 a.estimator_doc_link.fitted {\n",
       "  /* fitted */\n",
       "  border: var(--sklearn-color-fitted-level-1) 1pt solid;\n",
       "  color: var(--sklearn-color-fitted-level-1);\n",
       "}\n",
       "\n",
       "/* On hover */\n",
       "#sk-container-id-14 a.estimator_doc_link:hover {\n",
       "  /* unfitted */\n",
       "  background-color: var(--sklearn-color-unfitted-level-3);\n",
       "  color: var(--sklearn-color-background);\n",
       "  text-decoration: none;\n",
       "}\n",
       "\n",
       "#sk-container-id-14 a.estimator_doc_link.fitted:hover {\n",
       "  /* fitted */\n",
       "  background-color: var(--sklearn-color-fitted-level-3);\n",
       "}\n",
       "</style><div id=\"sk-container-id-14\" class=\"sk-top-container\"><div class=\"sk-text-repr-fallback\"><pre>GridSearchCV(cv=5,\n",
       "             estimator=RandomForestClassifier(class_weight=&#x27;balanced&#x27;,\n",
       "                                              n_jobs=-1),\n",
       "             param_grid={&#x27;max_features&#x27;: [5, 4, 3],\n",
       "                         &#x27;n_estimators&#x27;: [25, 50, 75, 100, 250]},\n",
       "             return_train_score=True)</pre><b>In a Jupyter environment, please rerun this cell to show the HTML representation or trust the notebook. <br />On GitHub, the HTML representation is unable to render, please try loading this page with nbviewer.org.</b></div><div class=\"sk-container\" hidden><div class=\"sk-item sk-dashed-wrapped\"><div class=\"sk-label-container\"><div class=\"sk-label fitted sk-toggleable\"><input class=\"sk-toggleable__control sk-hidden--visually\" id=\"sk-estimator-id-18\" type=\"checkbox\" ><label for=\"sk-estimator-id-18\" class=\"sk-toggleable__label fitted sk-toggleable__label-arrow fitted\">&nbsp;&nbsp;GridSearchCV<a class=\"sk-estimator-doc-link fitted\" rel=\"noreferrer\" target=\"_blank\" href=\"https://scikit-learn.org/1.4/modules/generated/sklearn.model_selection.GridSearchCV.html\">?<span>Documentation for GridSearchCV</span></a><span class=\"sk-estimator-doc-link fitted\">i<span>Fitted</span></span></label><div class=\"sk-toggleable__content fitted\"><pre>GridSearchCV(cv=5,\n",
       "             estimator=RandomForestClassifier(class_weight=&#x27;balanced&#x27;,\n",
       "                                              n_jobs=-1),\n",
       "             param_grid={&#x27;max_features&#x27;: [5, 4, 3],\n",
       "                         &#x27;n_estimators&#x27;: [25, 50, 75, 100, 250]},\n",
       "             return_train_score=True)</pre></div> </div></div><div class=\"sk-parallel\"><div class=\"sk-parallel-item\"><div class=\"sk-item\"><div class=\"sk-label-container\"><div class=\"sk-label fitted sk-toggleable\"><input class=\"sk-toggleable__control sk-hidden--visually\" id=\"sk-estimator-id-19\" type=\"checkbox\" ><label for=\"sk-estimator-id-19\" class=\"sk-toggleable__label fitted sk-toggleable__label-arrow fitted\">estimator: RandomForestClassifier</label><div class=\"sk-toggleable__content fitted\"><pre>RandomForestClassifier(class_weight=&#x27;balanced&#x27;, n_jobs=-1)</pre></div> </div></div><div class=\"sk-serial\"><div class=\"sk-item\"><div class=\"sk-estimator fitted sk-toggleable\"><input class=\"sk-toggleable__control sk-hidden--visually\" id=\"sk-estimator-id-20\" type=\"checkbox\" ><label for=\"sk-estimator-id-20\" class=\"sk-toggleable__label fitted sk-toggleable__label-arrow fitted\">&nbsp;RandomForestClassifier<a class=\"sk-estimator-doc-link fitted\" rel=\"noreferrer\" target=\"_blank\" href=\"https://scikit-learn.org/1.4/modules/generated/sklearn.ensemble.RandomForestClassifier.html\">?<span>Documentation for RandomForestClassifier</span></a></label><div class=\"sk-toggleable__content fitted\"><pre>RandomForestClassifier(class_weight=&#x27;balanced&#x27;, n_jobs=-1)</pre></div> </div></div></div></div></div></div></div></div></div>"
      ],
      "text/plain": [
       "GridSearchCV(cv=5,\n",
       "             estimator=RandomForestClassifier(class_weight='balanced',\n",
       "                                              n_jobs=-1),\n",
       "             param_grid={'max_features': [5, 4, 3],\n",
       "                         'n_estimators': [25, 50, 75, 100, 250]},\n",
       "             return_train_score=True)"
      ]
     },
     "execution_count": 361,
     "metadata": {},
     "output_type": "execute_result"
    }
   ],
   "source": [
    "# Build the new model\n",
    "RF2 = RandomForestClassifier(n_jobs = -1,class_weight='balanced')\n",
    "grid_search = GridSearchCV(RF2, param_grid, cv = 5, return_train_score=True)\n",
    "grid_search.fit(X_train_trans,array_y_train)"
   ]
  },
  {
   "cell_type": "code",
   "execution_count": 371,
   "id": "7ce5924d",
   "metadata": {},
   "outputs": [
    {
     "name": "stdout",
     "output_type": "stream",
     "text": [
      "0.6188820561337117\n",
      "0.6247161778618733 \n",
      " {'max_features': 3, 'n_estimators': 50}\n",
      "RandomForestClassifier(class_weight='balanced', max_features=3, n_estimators=50,\n",
      "                       n_jobs=-1)\n"
     ]
    }
   ],
   "source": [
    "print(grid_search.score(X_test_trans, array_y_test))\n",
    "print(grid_search.best_score_ ,'\\n', grid_search.best_params_)\n",
    "print(grid_search.best_estimator_)"
   ]
  },
  {
   "cell_type": "markdown",
   "id": "d28c51d7",
   "metadata": {},
   "source": [
    "Our accuracy did not improve a lot and our model was trained with max_features of 3 and n_estimators 50. Let us generate\n",
    "another classification report. "
   ]
  },
  {
   "cell_type": "code",
   "execution_count": 364,
   "id": "cdc3393d",
   "metadata": {
    "scrolled": true
   },
   "outputs": [
    {
     "name": "stdout",
     "output_type": "stream",
     "text": [
      "              precision    recall  f1-score   support\n",
      "\n",
      "           0       0.94      0.60      0.73    109167\n",
      "           1       0.23      0.75      0.35     17673\n",
      "\n",
      "    accuracy                           0.62    126840\n",
      "   macro avg       0.58      0.67      0.54    126840\n",
      "weighted avg       0.84      0.62      0.68    126840\n",
      "\n"
     ]
    }
   ],
   "source": [
    "CReport2 = classification_report(array_y_test, grid_search.predict(X_test_trans))\n",
    "print(CReport2) "
   ]
  },
  {
   "cell_type": "markdown",
   "id": "7a0bb7d0",
   "metadata": {},
   "source": [
    "Overall, the recall did improve and the accuracy stayed around ~ 62%. This model would not go into production as more \n",
    "substantial variables are needed to predict diabetes. Follow up might also include utilizing another ensemble model such as gradient boosting or xgboost to help train weak learners. Furthermore, it would be beneficial to experiement with thresholding depending on business needs or taking advantage of up/down/smote sampling via cross validation. "
   ]
  },
  {
   "cell_type": "code",
   "execution_count": null,
   "id": "835660b5",
   "metadata": {},
   "outputs": [],
   "source": []
  }
 ],
 "metadata": {
  "kernelspec": {
   "display_name": "Python 3 (ipykernel)",
   "language": "python",
   "name": "python3"
  },
  "language_info": {
   "codemirror_mode": {
    "name": "ipython",
    "version": 3
   },
   "file_extension": ".py",
   "mimetype": "text/x-python",
   "name": "python",
   "nbconvert_exporter": "python",
   "pygments_lexer": "ipython3",
   "version": "3.11.5"
  }
 },
 "nbformat": 4,
 "nbformat_minor": 5
}
